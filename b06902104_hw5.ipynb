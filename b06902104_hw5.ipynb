{
 "cells": [
  {
   "cell_type": "markdown",
   "metadata": {},
   "source": [
    "# Psychoinformatics - Week 5 (Exercises)\n",
    "by 吳由由 (b06902104@ntu.edu.tw)"
   ]
  },
  {
   "cell_type": "markdown",
   "metadata": {},
   "source": [
    "## 進一步搜尋 Boy-Girl 版資訊 (6 points)"
   ]
  },
  {
   "cell_type": "markdown",
   "metadata": {},
   "source": [
    "1. index.html 右上角 [< 上頁 ] 中包含了總頁數資訊，請用 LXML 抓出此經常變動的數字。(2points)\n",
    "\n",
    "2. 請用 LXML 找出距離現在時間最近的一篇[爆]文標題與 URN 。(2 points)\n",
    "\n",
    "3. 請用 Selenium 在 index.html 往前翻三頁並拍照。(2 points)"
   ]
  },
  {
   "cell_type": "code",
   "execution_count": 1,
   "metadata": {
    "collapsed": true
   },
   "outputs": [],
   "source": [
    "from selenium import webdriver\n",
    "import urllib.request\n",
    "import lxml.html"
   ]
  },
  {
   "cell_type": "code",
   "execution_count": 2,
   "metadata": {},
   "outputs": [],
   "source": [
    "# No matter what you do, our autograder will only run your analyze() function \n",
    "# and expect it to return the correct answers of Q1 & Q2 as a list\n",
    "# and generate three screenshots for Q3 with '1.png', '2.png', & '3.png' as filenames.\n",
    "\n",
    "def analyze():\n",
    "    # write your codes here...\n",
    "    u='http://www.ptt.cc/bbs/Boy-Girl/'\n",
    "    h={'User-Agent':'Mozilla/5.0'}\n",
    "    r=urllib.request.Request(u,headers=h)\n",
    "    data=urllib.request.urlopen(r).read()\n",
    "    t=lxml.html.fromstring(data.decode('utf-8'))\n",
    "\n",
    "    #Q1\n",
    "    link = t.xpath('//a[contains(text(),\"上頁\")]')[0]\n",
    "    page=(int)(link.attrib.get('href').split('/')[3].split('.')[0].split('index')[1])+1\n",
    "    \n",
    "    \n",
    "    #Q2\n",
    "    name=[]\n",
    "    url=[]\n",
    "    stop=0\n",
    "    while stop==0:\n",
    "        link = t.xpath('//a[contains(text(),\"上頁\")]')[0]\n",
    "        for l in t.xpath('//span[contains(text(),\"爆\")]'):\n",
    "            l=l.getparent().getnext().getchildren()[0]\n",
    "            name.append(l.text)\n",
    "            url.append(l.attrib.get('href'))\n",
    "            stop=1\n",
    "            \n",
    "        urn=link.attrib.get('href')\n",
    "        urn=urn.split('/')[3]\n",
    "        a=u+urn\n",
    "        r=urllib.request.Request(a,headers=h)\n",
    "        data=urllib.request.urlopen(r).read()\n",
    "        t=lxml.html.fromstring(data.decode('utf-8'))\n",
    "        \n",
    "    \n",
    "    #Q3\n",
    "    URI='https://www.ptt.cc/bbs/Boy-Girl/'\n",
    "    driver=webdriver.Chrome()\n",
    "    driver.get(URI)\n",
    "    for i in range(1,4):\n",
    "        btn=driver.find_elements_by_xpath('//a[contains(text(),\"上頁\")]')[0].click()\n",
    "        Name=(str)(i)+'.png'\n",
    "        driver.save_screenshot(Name)\n",
    "    \n",
    "    return [page,name[len(name)-1],url[len(url)-1]]\n",
    "    "
   ]
  },
  {
   "cell_type": "code",
   "execution_count": null,
   "metadata": {
    "scrolled": true
   },
   "outputs": [],
   "source": [
    "analyze()"
   ]
  },
  {
   "cell_type": "markdown",
   "metadata": {},
   "source": [
    "### Please submit this file to http://hpc.psy.ntu.edu.tw/info before noon next Wednesday."
   ]
  }
 ],
 "metadata": {
  "kernelspec": {
   "display_name": "Python 3",
   "language": "python",
   "name": "python3"
  },
  "language_info": {
   "codemirror_mode": {
    "name": "ipython",
    "version": 3
   },
   "file_extension": ".py",
   "mimetype": "text/x-python",
   "name": "python",
   "nbconvert_exporter": "python",
   "pygments_lexer": "ipython3",
   "version": "3.6.2"
  }
 },
 "nbformat": 4,
 "nbformat_minor": 2
}
