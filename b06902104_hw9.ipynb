{
 "cells": [
  {
   "cell_type": "markdown",
   "metadata": {},
   "source": [
    "# Psychoinformatics - Week 9 (Exercises)\n",
    "by 吳由由 (b06902104@ntu.edu.tw)"
   ]
  },
  {
   "cell_type": "code",
   "execution_count": 2,
   "metadata": {},
   "outputs": [
    {
     "name": "stderr",
     "output_type": "stream",
     "text": [
      "D:\\anaconda3.6\\lib\\site-packages\\sklearn\\cross_validation.py:41: DeprecationWarning: This module was deprecated in version 0.18 in favor of the model_selection module into which all the refactored classes and functions are moved. Also note that the interface of the new CV iterators are different from that of this module. This module will be removed in 0.20.\n",
      "  \"This module will be removed in 0.20.\", DeprecationWarning)\n",
      "D:\\anaconda3.6\\lib\\site-packages\\sklearn\\grid_search.py:42: DeprecationWarning: This module was deprecated in version 0.18 in favor of the model_selection module into which all the refactored classes and functions are moved. This module will be removed in 0.20.\n",
      "  DeprecationWarning)\n",
      "D:\\anaconda3.6\\lib\\site-packages\\sklearn\\learning_curve.py:22: DeprecationWarning: This module was deprecated in version 0.18 in favor of the model_selection module into which all the functions are moved. This module will be removed in 0.20\n",
      "  DeprecationWarning)\n"
     ]
    }
   ],
   "source": [
    "import numpy as np\n",
    "from sklearn import *\n",
    "from sklearn.utils import shuffle  \n",
    "from matplotlib.pyplot import *\n",
    "%matplotlib inline"
   ]
  },
  {
   "cell_type": "markdown",
   "metadata": {},
   "source": [
    "## 1 檢查 machine learning pipeline (6 points)"
   ]
  },
  {
   "cell_type": "markdown",
   "metadata": {},
   "source": [
    "### 1.1 請打亂原本的Y觀察正確率是否和chance level (0.33)有差異? 若有, why? (3 points)"
   ]
  },
  {
   "cell_type": "code",
   "execution_count": 3,
   "metadata": {},
   "outputs": [
    {
     "name": "stdout",
     "output_type": "stream",
     "text": [
      "0.986666666667\n"
     ]
    }
   ],
   "source": [
    "# 本題在研究打亂X和打亂Y有差別嗎?\n",
    "iris = datasets.load_iris()\n",
    "X=iris.data\n",
    "Y=iris.target\n",
    "Y=shuffle(Y)\n",
    "clf=neighbors.KNeighborsClassifier(1)\n",
    "clf.fit(X,Y)\n",
    "accuracy=np.mean(clf.predict(X)==Y)\n",
    "print(accuracy)"
   ]
  },
  {
   "cell_type": "markdown",
   "metadata": {},
   "source": [
    "### 1.2 請用統計檢定accuracies中的結果是否和chance level (0.5)有差異? 若有, why? (3 points)"
   ]
  },
  {
   "cell_type": "code",
   "execution_count": 6,
   "metadata": {},
   "outputs": [
    {
     "name": "stdout",
     "output_type": "stream",
     "text": [
      "[0 1 0 1 0 1 0 1 0 1 0 1 0 1 0 1 0 1 0 1 0 1 0 1 0 1 0 1 0 1 0 1 0 1 0 1 0\n",
      " 1 0 1 0 1 0 1 0 1 0 1 0 1 0 1 0 1 0 1 0 1 0 1 0 1 0 1 0 1 0 1 0 1 0 1 0 1\n",
      " 0 1 0 1 0 1 0 1 0 1 0 1 0 1 0 1 0 1 0 1 0 1 0 1 0 1]\n"
     ]
    }
   ],
   "source": [
    "Y=np.remainder(range(200),2) \n",
    "print(Y) #Y的0和1個數一樣多"
   ]
  },
  {
   "cell_type": "code",
   "execution_count": 7,
   "metadata": {},
   "outputs": [],
   "source": [
    "# 跑一百次測試:\n",
    "clf=svm.SVC()\n",
    "accuracies=[]\n",
    "for i in range(100): \n",
    "    X=np.random.rand(200,2) # X取亂數\n",
    "    kf=cross_validation.KFold(len(Y),len(Y),shuffle=True) # Leave-one-out cross-validation\n",
    "    sc=cross_validation.cross_val_score(clf,X,Y,cv=kf)\n",
    "    accuracies.append(sc.mean())"
   ]
  },
  {
   "cell_type": "code",
   "execution_count": 9,
   "metadata": {
    "scrolled": true
   },
   "outputs": [
    {
     "name": "stdout",
     "output_type": "stream",
     "text": [
      "0.3515\n",
      "0.234253601893\n",
      "Ttest_1sampResult(statistic=-6.3075074712240076, pvalue=7.9847049906573195e-09)\n"
     ]
    }
   ],
   "source": [
    "# Please do your statistical tests here:\n",
    "Mean=np.mean(accuracies)\n",
    "Std=np.std(accuracies)\n",
    "print(Mean) #計算平均\n",
    "print(Std)  #計算標準差\n",
    "import scipy.stats as stats\n",
    "print(stats.ttest_1samp(accuracies,0.5)) #進行t-test statistic<0，代表我的結果<0.5\n"
   ]
  },
  {
   "cell_type": "markdown",
   "metadata": {},
   "source": [
    "Please write your discussion here, if any.\n",
    "\n",
    "###### 1.1\n",
    "和0.33有差異\n",
    "\n",
    "當我們把y shuffle後去train，機器學到的就不是正確答案，當用訓練出來的結果來測試後，就相當於機器在0 1 2之中亂猜，理論上的機率是0.33。\n",
    "\n",
    "但我們測試出來的正確性會是0.9x 接近100%的原因是因為我們train data和test data用了同一份。而正確度不是100%的原因是有一些x重複了 ex:X[9]=X[37]，X[101]=X[142]，然後當對應到不同的y，就會造成錯誤發生。\n",
    "###### 1.2\n",
    "和0.5有差異\n",
    "\n",
    "依照上課ppt,training要適可而止，過多的training會讓training vs testing error變大。\n",
    "\n",
    "依照t-test，model學到distribution和0.5並不一樣，解決辦法是把組數分少一點，平均就可以比較接近0.5。\n",
    "因為測兩組data的distribution有可能是同一種，如果p值小於0.05的話理論上就會歸為不一樣的distribution。\n",
    "但在這邊，如果mean接近0.5，標準差又非常小的話，理論上也該算進理想0.5，但是因為標準差非常小的關係，會被判定為不同的distribution，就算很接近0.5，distribution不對還是被歸為不一樣。所以最後得到的結果會有錯誤，和chance level並不一樣。"
   ]
  },
  {
   "cell_type": "markdown",
   "metadata": {},
   "source": [
    "### Please submit this file to http://hpc.psy.ntu.edu.tw/info before noon next Wednesday."
   ]
  }
 ],
 "metadata": {
  "kernelspec": {
   "display_name": "Python 3",
   "language": "python",
   "name": "python3"
  },
  "language_info": {
   "codemirror_mode": {
    "name": "ipython",
    "version": 3
   },
   "file_extension": ".py",
   "mimetype": "text/x-python",
   "name": "python",
   "nbconvert_exporter": "python",
   "pygments_lexer": "ipython3",
   "version": "3.6.2"
  }
 },
 "nbformat": 4,
 "nbformat_minor": 2
}
