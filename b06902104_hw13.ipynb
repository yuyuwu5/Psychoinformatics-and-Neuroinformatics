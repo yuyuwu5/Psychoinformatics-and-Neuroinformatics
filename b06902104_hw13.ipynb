{
 "cells": [
  {
   "cell_type": "markdown",
   "metadata": {},
   "source": [
    "# Psychoinformatics - Week 13 (Exercises)\n",
    "by 吳由由 (b06902104@ntu.edu.tw)"
   ]
  },
  {
   "cell_type": "markdown",
   "metadata": {},
   "source": [
    "## 1 歡樂送3分 (3 points)"
   ]
  },
  {
   "cell_type": "markdown",
   "metadata": {},
   "source": [
    "## 2 進一步研究 Regular expression\n",
    "用urllib+re在<a href=\"https://www.csie.ntu.edu.tw/members/teacher.php\">臺大資工系網頁</a>搜集教師emails."
   ]
  },
  {
   "cell_type": "code",
   "execution_count": 1,
   "metadata": {
    "collapsed": true
   },
   "outputs": [],
   "source": [
    "# Please write your codes here\n",
    "import urllib\n",
    "from urllib.parse import quote \n",
    "import string\n",
    "import re\n",
    "\n",
    "url=\"https://www.csie.ntu.edu.tw/members/teacher.php?mclass1=110\"\n",
    "req = urllib.request.Request(url)\n",
    "resp = urllib.request.urlopen(req)\n",
    "respData = resp.read().decode('utf-8')\n",
    "respData=re.split('Array\\(\\);|for ',respData)\n",
    "respData.remove(respData[0])\n",
    "regex=re.compile('var',re.IGNORECASE)\n",
    "for t in respData:\n",
    "    if t==None:\n",
    "        respData.remove(t)\n",
    "    out=regex.search(t)\n",
    "    if out:\n",
    "        respData.remove(t)"
   ]
  },
  {
   "cell_type": "code",
   "execution_count": 2,
   "metadata": {
    "collapsed": true
   },
   "outputs": [],
   "source": [
    "def translation(l):\n",
    "    out=\"\"\n",
    "    length=len(l)\n",
    "    reg=re.compile('\\|',re.IGNORECASE)\n",
    "    for i in reversed(l):\n",
    "        tmp=reg.search(i)\n",
    "        if tmp:\n",
    "            i=i.replace(\"|\",\"\")\n",
    "            out+=chr(int(i))\n",
    "        else:\n",
    "            out+=i\n",
    "    out=re.split('\\\"\\>|\\<',out)[2]\n",
    "    if bool(re.match('[^@]+@[^@]+\\.[^@]+',out))==True:\n",
    "        if out!=\"contact@csie.ntu.edu.tw\":\n",
    "            print(out)\n",
    "    return "
   ]
  },
  {
   "cell_type": "code",
   "execution_count": 3,
   "metadata": {},
   "outputs": [
    {
     "name": "stdout",
     "output_type": "stream",
     "text": [
      "cyy@csie.ntu.edu.tw\n",
      "hsuwc@csie.ntu.edu.tw\n",
      "rfchang@csie.ntu.edu.tw\n",
      "robin@ntu.edu.tw\n",
      "hhchen@csie.ntu.edu.tw\n",
      "mikechen@csie.ntu.edu.tw\n",
      "pjcheng@csie.ntu.edu.tw\n",
      "lichen@csie.ntu.edu.tw\n",
      "hsiang@csie.ntu.edu.tw\n",
      "yjhsu@csie.ntu.edu.tw\n",
      "cwhsueh@csie.ntu.edu.tw\n",
      "jang@csie.ntu.edu.tw\n",
      "flai@csie.ntu.edu.tw\n",
      "lslee@cc.ee.ntu.edu.tw\n",
      "yenhuan.li@csie.ntu.edu.tw\n",
      "cjlin@csie.ntu.edu.tw\n",
      "sdlin@csie.ntu.edu.tw\n",
      "plin@csie.ntu.edu.tw\n",
      "hil@csie.ntu.edu.tw\n",
      "ming@csie.ntu.edu.tw\n",
      "cshih@csie.ntu.edu.tw\n",
      "tonytan@csie.ntu.edu.tw\n",
      "yjtseng@csie.ntu.edu.tw\n",
      "yangc@csie.ntu.edu.tw\n",
      "hungsh@csie.ntu.edu.tw\n",
      "kmchao@csie.ntu.edu.tw\n",
      "ghchen@csie.ntu.edu.tw\n",
      "wcchen@csie.ntu.edu.tw\n",
      "yvchen@csie.ntu.edu.tw\n",
      "ccf@csie.ntu.edu.tw\n",
      "fuh@csie.ntu.edu.tw\n",
      "hchsiao@csie.ntu.edu.tw\n",
      "whsu@ntu.edu.tw\n",
      "hung@csie.ntu.edu.tw\n",
      "ktw@csie.ntu.edu.tw\n",
      "jlee@csie.ntu.edu.tw\n",
      "mslee@csie.ntu.edu.tw\n",
      "liao@csie.ntu.edu.tw\n",
      "cwlin@csie.ntu.edu.tw\n",
      "htlin@csie.ntu.edu.tw\n",
      "pangfeng@csie.ntu.edu.tw\n",
      "lyuu@csie.ntu.edu.tw\n",
      "yjoyang@csie.ntu.edu.tw\n",
      "acpang@csie.ntu.edu.tw\n",
      "hsinmu@csie.ntu.edu.tw\n",
      "wjl@cmlab.csie.ntu.edu.tw\n",
      "dtlee@iis.sinica.edu.tw\n",
      "janeliu@iis.sinica.edu.tw\n",
      "wyma@microsoft.com\n",
      "ma@cs.ucdavis.edu\n",
      "hon@microsoft.com\n",
      "klin@uci.edu \n",
      "chc@olemap.com\n",
      "cykao@csie.ntu.edu.tw\n",
      "tshsu@iis.sinica.edu.tw\n",
      "bywang@iis.sinica.edu.tw\n",
      "hchu@csie.ntu.edu.tw\n",
      "cyliou@csie.ntu.edu.tw\n",
      "jau@csie.ntu.edu.tw\n",
      "ganboon@csie.ntu.edu.tw\n"
     ]
    }
   ],
   "source": [
    "regex=re.compile('l\\[\\d+\\]',re.IGNORECASE)\n",
    "reg=re.compile('\\n')\n",
    "ccc=0\n",
    "for t in respData:\n",
    "    t=re.split('=\\'|\\';',t)\n",
    "    for tmp in t:\n",
    "        out=regex.search(tmp)\n",
    "        out2=reg.search(tmp)\n",
    "        if out or out2:\n",
    "            t.remove(tmp)\n",
    "    translation(t)       "
   ]
  },
  {
   "cell_type": "code",
   "execution_count": null,
   "metadata": {
    "collapsed": true
   },
   "outputs": [],
   "source": []
  }
 ],
 "metadata": {
  "kernelspec": {
   "display_name": "Python 3",
   "language": "python",
   "name": "python3"
  },
  "language_info": {
   "codemirror_mode": {
    "name": "ipython",
    "version": 3
   },
   "file_extension": ".py",
   "mimetype": "text/x-python",
   "name": "python",
   "nbconvert_exporter": "python",
   "pygments_lexer": "ipython3",
   "version": "3.6.2"
  }
 },
 "nbformat": 4,
 "nbformat_minor": 2
}
